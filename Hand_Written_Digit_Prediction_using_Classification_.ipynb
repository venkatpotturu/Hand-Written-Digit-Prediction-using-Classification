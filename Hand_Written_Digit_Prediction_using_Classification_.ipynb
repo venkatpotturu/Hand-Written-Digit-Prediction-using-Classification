{
  "nbformat": 4,
  "nbformat_minor": 0,
  "metadata": {
    "colab": {
      "provenance": []
    },
    "kernelspec": {
      "name": "python3",
      "display_name": "Python 3"
    },
    "language_info": {
      "name": "python"
    }
  },
  "cells": [
    {
      "cell_type": "markdown",
      "source": [
        "# Hand Written Digit Prediction - Classification Analysis\n",
        "\n",
        "The digits dataset consists of Ball pixel images of digits. The images attribute of the dataset stores x arrays of grayscale values for each Image. We will use these arrays to visualize the first 4 images. The target attribute of the dataset stores the digit each image represents"
      ],
      "metadata": {
        "id": "cOuu66SgU8Rn"
      }
    },
    {
      "cell_type": "markdown",
      "source": [
        "#Import Library"
      ],
      "metadata": {
        "id": "OsUbIHwzU--g"
      }
    },
    {
      "cell_type": "code",
      "execution_count": null,
      "metadata": {
        "id": "nlqeE4q6Upx9"
      },
      "outputs": [],
      "source": [
        "import pandas as pd"
      ]
    },
    {
      "cell_type": "code",
      "source": [
        "import numpy as np"
      ],
      "metadata": {
        "id": "FhSdYJiBVIjY"
      },
      "execution_count": null,
      "outputs": []
    },
    {
      "cell_type": "code",
      "source": [
        "import matplotlib.pyplot as plt"
      ],
      "metadata": {
        "id": "DKkaVGazVKnV"
      },
      "execution_count": null,
      "outputs": []
    },
    {
      "cell_type": "markdown",
      "source": [
        "# Import Data"
      ],
      "metadata": {
        "id": "-h93Wf25VSl7"
      }
    },
    {
      "cell_type": "code",
      "source": [
        "from sklearn.datasets import load_digits"
      ],
      "metadata": {
        "id": "6Rk6CMnjVVfS"
      },
      "execution_count": null,
      "outputs": []
    },
    {
      "cell_type": "code",
      "source": [
        "df = load_digits()"
      ],
      "metadata": {
        "id": "gCa2LO83VgMD"
      },
      "execution_count": null,
      "outputs": []
    },
    {
      "cell_type": "code",
      "source": [
        "fig, axes = plt.subplots(nrows=1, ncols=4, figsize=(10, 3))\n",
        "\n",
        "for ax, image, label in zip(axes, df.images, df.target):\n",
        "    ax.set_axis_off()\n",
        "    ax.imshow(image, cmap=plt.cm.gray_r, interpolation='nearest')\n",
        "    ax.set_title(\"Training: %d\" % label)"
      ],
      "metadata": {
        "colab": {
          "base_uri": "https://localhost:8080/",
          "height": 227
        },
        "id": "C6YehAXMV9Sx",
        "outputId": "c6ae9eab-6449-4ef5-f6d3-3d8576194f3c"
      },
      "execution_count": null,
      "outputs": [
        {
          "output_type": "display_data",
          "data": {
            "text/plain": [
              "<Figure size 1000x300 with 4 Axes>"
            ],
            "image/png": "[encoded data removed]"
          },
          "metadata": {}
        }
      ]
    },
    {
      "cell_type": "markdown",
      "source": [
        "# Data Preprocessing"
      ],
      "metadata": {
        "id": "upjn21rjnIlr"
      }
    },
    {
      "cell_type": "code",
      "source": [
        "df.images.shape"
      ],
      "metadata": {
        "colab": {
          "base_uri": "https://localhost:8080/"
        },
        "id": "jBAQicx9nL5I",
        "outputId": "9b2ccc88-23ab-4791-db5d-d05a19721274"
      },
      "execution_count": null,
      "outputs": [
        {
          "output_type": "execute_result",
          "data": {
            "text/plain": [
              "(1797, 8, 8)"
            ]
          },
          "metadata": {},
          "execution_count": 7
        }
      ]
    },
    {
      "cell_type": "code",
      "source": [
        "df.images[0]"
      ],
      "metadata": {
        "colab": {
          "base_uri": "https://localhost:8080/"
        },
        "id": "QtupAOXqnY7f",
        "outputId": "7803c019-7ffd-487d-fc9d-40bd86c23944"
      },
      "execution_count": null,
      "outputs": [
        {
          "output_type": "execute_result",
          "data": {
            "text/plain": [
              "array([[ 0.,  0.,  5., 13.,  9.,  1.,  0.,  0.],\n",
              "       [ 0.,  0., 13., 15., 10., 15.,  5.,  0.],\n",
              "       [ 0.,  3., 15.,  2.,  0., 11.,  8.,  0.],\n",
              "       [ 0.,  4., 12.,  0.,  0.,  8.,  8.,  0.],\n",
              "       [ 0.,  5.,  8.,  0.,  0.,  9.,  8.,  0.],\n",
              "       [ 0.,  4., 11.,  0.,  1., 12.,  7.,  0.],\n",
              "       [ 0.,  2., 14.,  5., 10., 12.,  0.,  0.],\n",
              "       [ 0.,  0.,  6., 13., 10.,  0.,  0.,  0.]])"
            ]
          },
          "metadata": {},
          "execution_count": 8
        }
      ]
    },
    {
      "cell_type": "code",
      "source": [
        "df.images[0].shape"
      ],
      "metadata": {
        "colab": {
          "base_uri": "https://localhost:8080/"
        },
        "id": "-6pOrRMHndJ0",
        "outputId": "e76a6817-692f-4181-e8a2-756188c82f0b"
      },
      "execution_count": null,
      "outputs": [
        {
          "output_type": "execute_result",
          "data": {
            "text/plain": [
              "(8, 8)"
            ]
          },
          "metadata": {},
          "execution_count": 9
        }
      ]
    },
    {
      "cell_type": "code",
      "source": [
        "len(df.images)"
      ],
      "metadata": {
        "colab": {
          "base_uri": "https://localhost:8080/"
        },
        "id": "FVWDNnTQnmC2",
        "outputId": "d201e4be-340d-4b47-ee33-4da4ae925473"
      },
      "execution_count": null,
      "outputs": [
        {
          "output_type": "execute_result",
          "data": {
            "text/plain": [
              "1797"
            ]
          },
          "metadata": {},
          "execution_count": 10
        }
      ]
    },
    {
      "cell_type": "code",
      "source": [
        "n_samples = len(df.images)\n",
        "data = df.images.reshape(n_samples, -1)"
      ],
      "metadata": {
        "id": "G0_9O2EYoCHu"
      },
      "execution_count": null,
      "outputs": []
    },
    {
      "cell_type": "code",
      "source": [
        "data[0]"
      ],
      "metadata": {
        "colab": {
          "base_uri": "https://localhost:8080/"
        },
        "id": "HTb-QegTopOI",
        "outputId": "40ad2f1b-1a97-4e0d-a0d7-7cb61b54e807"
      },
      "execution_count": null,
      "outputs": [
        {
          "output_type": "execute_result",
          "data": {
            "text/plain": [
              "array([ 0.,  0.,  5., 13.,  9.,  1.,  0.,  0.,  0.,  0., 13., 15., 10.,\n",
              "       15.,  5.,  0.,  0.,  3., 15.,  2.,  0., 11.,  8.,  0.,  0.,  4.,\n",
              "       12.,  0.,  0.,  8.,  8.,  0.,  0.,  5.,  8.,  0.,  0.,  9.,  8.,\n",
              "        0.,  0.,  4., 11.,  0.,  1., 12.,  7.,  0.,  0.,  2., 14.,  5.,\n",
              "       10., 12.,  0.,  0.,  0.,  0.,  6., 13., 10.,  0.,  0.,  0.])"
            ]
          },
          "metadata": {},
          "execution_count": 12
        }
      ]
    },
    {
      "cell_type": "code",
      "source": [
        "data[0].shape"
      ],
      "metadata": {
        "colab": {
          "base_uri": "https://localhost:8080/"
        },
        "id": "AvqAy0maorpm",
        "outputId": "d2f01213-b567-497c-d1d4-ad0622adc2ac"
      },
      "execution_count": null,
      "outputs": [
        {
          "output_type": "execute_result",
          "data": {
            "text/plain": [
              "(64,)"
            ]
          },
          "metadata": {},
          "execution_count": 13
        }
      ]
    },
    {
      "cell_type": "code",
      "source": [
        "data.shape"
      ],
      "metadata": {
        "colab": {
          "base_uri": "https://localhost:8080/"
        },
        "id": "pjfYgb8jouvS",
        "outputId": "b8bec7e9-91db-4b12-c062-67b7234545c1"
      },
      "execution_count": null,
      "outputs": [
        {
          "output_type": "execute_result",
          "data": {
            "text/plain": [
              "(1797, 64)"
            ]
          },
          "metadata": {},
          "execution_count": 14
        }
      ]
    },
    {
      "cell_type": "markdown",
      "source": [
        "# Scaling Image Data"
      ],
      "metadata": {
        "id": "nUsP1kqwozH7"
      }
    },
    {
      "cell_type": "code",
      "source": [
        "data.min()"
      ],
      "metadata": {
        "colab": {
          "base_uri": "https://localhost:8080/"
        },
        "id": "UufL7ZXGoyYv",
        "outputId": "82d45511-9a2e-4a85-b2d4-3644badf11fb"
      },
      "execution_count": null,
      "outputs": [
        {
          "output_type": "execute_result",
          "data": {
            "text/plain": [
              "0.0"
            ]
          },
          "metadata": {},
          "execution_count": 15
        }
      ]
    },
    {
      "cell_type": "code",
      "source": [
        "data.max()"
      ],
      "metadata": {
        "colab": {
          "base_uri": "https://localhost:8080/"
        },
        "id": "lBKuZMcyo8GB",
        "outputId": "217caf0f-7cf8-412d-dc28-b25fb970fa1b"
      },
      "execution_count": null,
      "outputs": [
        {
          "output_type": "execute_result",
          "data": {
            "text/plain": [
              "16.0"
            ]
          },
          "metadata": {},
          "execution_count": 16
        }
      ]
    },
    {
      "cell_type": "code",
      "source": [
        "data = data/16"
      ],
      "metadata": {
        "id": "FgNxIp6do93n"
      },
      "execution_count": null,
      "outputs": []
    },
    {
      "cell_type": "code",
      "source": [
        "data.min()"
      ],
      "metadata": {
        "colab": {
          "base_uri": "https://localhost:8080/"
        },
        "id": "H1ThO-fNpCxA",
        "outputId": "e137778a-967a-4e8e-d770-482d560edef8"
      },
      "execution_count": null,
      "outputs": [
        {
          "output_type": "execute_result",
          "data": {
            "text/plain": [
              "0.0"
            ]
          },
          "metadata": {},
          "execution_count": 18
        }
      ]
    },
    {
      "cell_type": "code",
      "source": [
        "data.max()"
      ],
      "metadata": {
        "colab": {
          "base_uri": "https://localhost:8080/"
        },
        "id": "4rPO1FmepFOS",
        "outputId": "a35bfc84-9247-4f9f-f071-329237a8a9e7"
      },
      "execution_count": null,
      "outputs": [
        {
          "output_type": "execute_result",
          "data": {
            "text/plain": [
              "1.0"
            ]
          },
          "metadata": {},
          "execution_count": 19
        }
      ]
    },
    {
      "cell_type": "code",
      "source": [
        "data[0]"
      ],
      "metadata": {
        "colab": {
          "base_uri": "https://localhost:8080/"
        },
        "id": "_qBhOQjopHSr",
        "outputId": "32c49bbd-dabc-4739-8d7e-2594e4e876df"
      },
      "execution_count": null,
      "outputs": [
        {
          "output_type": "execute_result",
          "data": {
            "text/plain": [
              "array([0.    , 0.    , 0.3125, 0.8125, 0.5625, 0.0625, 0.    , 0.    ,\n",
              "       0.    , 0.    , 0.8125, 0.9375, 0.625 , 0.9375, 0.3125, 0.    ,\n",
              "       0.    , 0.1875, 0.9375, 0.125 , 0.    , 0.6875, 0.5   , 0.    ,\n",
              "       0.    , 0.25  , 0.75  , 0.    , 0.    , 0.5   , 0.5   , 0.    ,\n",
              "       0.    , 0.3125, 0.5   , 0.    , 0.    , 0.5625, 0.5   , 0.    ,\n",
              "       0.    , 0.25  , 0.6875, 0.    , 0.0625, 0.75  , 0.4375, 0.    ,\n",
              "       0.    , 0.125 , 0.875 , 0.3125, 0.625 , 0.75  , 0.    , 0.    ,\n",
              "       0.    , 0.    , 0.375 , 0.8125, 0.625 , 0.    , 0.    , 0.    ])"
            ]
          },
          "metadata": {},
          "execution_count": 20
        }
      ]
    },
    {
      "cell_type": "markdown",
      "source": [
        "# Train Test Split Data"
      ],
      "metadata": {
        "id": "skkW8MAkpLG7"
      }
    },
    {
      "cell_type": "code",
      "source": [
        "from sklearn.model_selection import train_test_split"
      ],
      "metadata": {
        "id": "vbZaOXn-pKfi"
      },
      "execution_count": null,
      "outputs": []
    },
    {
      "cell_type": "code",
      "source": [
        "X_train, X_test, y_train, y_test = train_test_split(data, df.target, test_size=0.3)"
      ],
      "metadata": {
        "id": "z6YkGnMyphFG"
      },
      "execution_count": null,
      "outputs": []
    },
    {
      "cell_type": "code",
      "source": [
        "X_train.shape, X_test.shape, y_train.shape, y_test.shape"
      ],
      "metadata": {
        "colab": {
          "base_uri": "https://localhost:8080/"
        },
        "id": "Bc_fcSmZpwzF",
        "outputId": "1a4b955d-965c-4872-bac6-88d6aff13c43"
      },
      "execution_count": null,
      "outputs": [
        {
          "output_type": "execute_result",
          "data": {
            "text/plain": [
              "((1257, 64), (540, 64), (1257,), (540,))"
            ]
          },
          "metadata": {},
          "execution_count": 23
        }
      ]
    },
    {
      "cell_type": "markdown",
      "source": [
        "# Random Forest Model"
      ],
      "metadata": {
        "id": "QycXC7zyp7SD"
      }
    },
    {
      "cell_type": "code",
      "source": [
        "from sklearn.ensemble import RandomForestClassifier"
      ],
      "metadata": {
        "id": "sKwFIN8Xp_D1"
      },
      "execution_count": null,
      "outputs": []
    },
    {
      "cell_type": "code",
      "source": [
        "rf = RandomForestClassifier()"
      ],
      "metadata": {
        "id": "ZKAOxBZvqF2l"
      },
      "execution_count": null,
      "outputs": []
    },
    {
      "cell_type": "code",
      "source": [
        "rf.fit(X_train, y_train)"
      ],
      "metadata": {
        "id": "H_U8S4dHqJKY",
        "colab": {
          "base_uri": "https://localhost:8080/",
          "height": 74
        },
        "outputId": "3f691de3-45f4-475a-8127-e4ff2a24a4f5"
      },
      "execution_count": null,
      "outputs": [
        {
          "output_type": "execute_result",
          "data": {
            "text/plain": [
              "RandomForestClassifier()"
            ],
            "text/html": [
              "<style>#sk-container-id-1 {color: black;background-color: white;}#sk-container-id-1 pre{padding: 0;}#sk-container-id-1 div.sk-toggleable {background-color: white;}#sk-container-id-1 label.sk-toggleable__label {cursor: pointer;display: block;width: 100%;margin-bottom: 0;padding: 0.3em;box-sizing: border-box;text-align: center;}#sk-container-id-1 label.sk-toggleable__label-arrow:before {content: \"▸\";float: left;margin-right: 0.25em;color: #696969;}#sk-container-id-1 label.sk-toggleable__label-arrow:hover:before {color: black;}#sk-container-id-1 div.sk-estimator:hover label.sk-toggleable__label-arrow:before {color: black;}#sk-container-id-1 div.sk-toggleable__content {max-height: 0;max-width: 0;overflow: hidden;text-align: left;background-color: #f0f8ff;}#sk-container-id-1 div.sk-toggleable__content pre {margin: 0.2em;color: black;border-radius: 0.25em;background-color: #f0f8ff;}#sk-container-id-1 input.sk-toggleable__control:checked~div.sk-toggleable__content {max-height: 200px;max-width: 100%;overflow: auto;}#sk-container-id-1 input.sk-toggleable__control:checked~label.sk-toggleable__label-arrow:before {content: \"▾\";}#sk-container-id-1 div.sk-estimator input.sk-toggleable__control:checked~label.sk-toggleable__label {background-color: #d4ebff;}#sk-container-id-1 div.sk-label input.sk-toggleable__control:checked~label.sk-toggleable__label {background-color: #d4ebff;}#sk-container-id-1 input.sk-hidden--visually {border: 0;clip: rect(1px 1px 1px 1px);clip: rect(1px, 1px, 1px, 1px);height: 1px;margin: -1px;overflow: hidden;padding: 0;position: absolute;width: 1px;}#sk-container-id-1 div.sk-estimator {font-family: monospace;background-color: #f0f8ff;border: 1px dotted black;border-radius: 0.25em;box-sizing: border-box;margin-bottom: 0.5em;}#sk-container-id-1 div.sk-estimator:hover {background-color: #d4ebff;}#sk-container-id-1 div.sk-parallel-item::after {content: \"\";width: 100%;border-bottom: 1px solid gray;flex-grow: 1;}#sk-container-id-1 div.sk-label:hover label.sk-toggleable__label {background-color: #d4ebff;}#sk-container-id-1 div.sk-serial::before {content: \"\";position: absolute;border-left: 1px solid gray;box-sizing: border-box;top: 0;bottom: 0;left: 50%;z-index: 0;}#sk-container-id-1 div.sk-serial {display: flex;flex-direction: column;align-items: center;background-color: white;padding-right: 0.2em;padding-left: 0.2em;position: relative;}#sk-container-id-1 div.sk-item {position: relative;z-index: 1;}#sk-container-id-1 div.sk-parallel {display: flex;align-items: stretch;justify-content: center;background-color: white;position: relative;}#sk-container-id-1 div.sk-item::before, #sk-container-id-1 div.sk-parallel-item::before {content: \"\";position: absolute;border-left: 1px solid gray;box-sizing: border-box;top: 0;bottom: 0;left: 50%;z-index: -1;}#sk-container-id-1 div.sk-parallel-item {display: flex;flex-direction: column;z-index: 1;position: relative;background-color: white;}#sk-container-id-1 div.sk-parallel-item:first-child::after {align-self: flex-end;width: 50%;}#sk-container-id-1 div.sk-parallel-item:last-child::after {align-self: flex-start;width: 50%;}#sk-container-id-1 div.sk-parallel-item:only-child::after {width: 0;}#sk-container-id-1 div.sk-dashed-wrapped {border: 1px dashed gray;margin: 0 0.4em 0.5em 0.4em;box-sizing: border-box;padding-bottom: 0.4em;background-color: white;}#sk-container-id-1 div.sk-label label {font-family: monospace;font-weight: bold;display: inline-block;line-height: 1.2em;}#sk-container-id-1 div.sk-label-container {text-align: center;}#sk-container-id-1 div.sk-container {/* jupyter's `normalize.less` sets `[hidden] { display: none; }` but bootstrap.min.css set `[hidden] { display: none !important; }` so we also need the `!important` here to be able to override the default hidden behavior on the sphinx rendered scikit-learn.org. See: https://github.com/scikit-learn/scikit-learn/issues/21755 */display: inline-block !important;position: relative;}#sk-container-id-1 div.sk-text-repr-fallback {display: none;}</style><div id=\"sk-container-id-1\" class=\"sk-top-container\"><div class=\"sk-text-repr-fallback\"><pre>RandomForestClassifier()</pre><b>In a Jupyter environment, please rerun this cell to show the HTML representation or trust the notebook. <br />On GitHub, the HTML representation is unable to render, please try loading this page with nbviewer.org.</b></div><div class=\"sk-container\" hidden><div class=\"sk-item\"><div class=\"sk-estimator sk-toggleable\"><input class=\"sk-toggleable__control sk-hidden--visually\" id=\"sk-estimator-id-1\" type=\"checkbox\" checked><label for=\"sk-estimator-id-1\" class=\"sk-toggleable__label sk-toggleable__label-arrow\">RandomForestClassifier</label><div class=\"sk-toggleable__content\"><pre>RandomForestClassifier()</pre></div></div></div></div></div>"
            ]
          },
          "metadata": {},
          "execution_count": 26
        }
      ]
    },
    {
      "cell_type": "markdown",
      "source": [
        "# Predict Test data"
      ],
      "metadata": {
        "id": "D7JY2awzqWCO"
      }
    },
    {
      "cell_type": "code",
      "source": [
        "y_pred = rf.predict(X_test)"
      ],
      "metadata": {
        "id": "xJqJpOHAqSJ2"
      },
      "execution_count": null,
      "outputs": []
    },
    {
      "cell_type": "code",
      "source": [
        "y_pred"
      ],
      "metadata": {
        "id": "n50lPKPOqhjD",
        "colab": {
          "base_uri": "https://localhost:8080/"
        },
        "outputId": "503aba89-16c6-4a7e-93af-ac4d784929d9"
      },
      "execution_count": null,
      "outputs": [
        {
          "output_type": "execute_result",
          "data": {
            "text/plain": [
              "array([6, 0, 1, 1, 5, 8, 4, 5, 5, 7, 6, 9, 2, 2, 2, 5, 3, 7, 6, 2, 0, 1,\n",
              "       5, 8, 2, 9, 6, 0, 6, 9, 9, 0, 6, 4, 7, 4, 1, 5, 7, 6, 7, 1, 2, 4,\n",
              "       8, 1, 7, 8, 0, 9, 6, 1, 7, 1, 2, 7, 5, 7, 3, 6, 5, 0, 6, 3, 0, 7,\n",
              "       2, 8, 7, 6, 3, 6, 0, 7, 6, 1, 0, 0, 7, 5, 4, 3, 7, 6, 8, 0, 5, 3,\n",
              "       1, 9, 0, 0, 9, 2, 0, 9, 8, 4, 6, 5, 6, 1, 9, 8, 3, 7, 0, 9, 5, 8,\n",
              "       0, 0, 1, 5, 8, 6, 2, 4, 3, 1, 0, 7, 1, 2, 0, 8, 0, 0, 0, 2, 8, 3,\n",
              "       5, 3, 2, 6, 9, 9, 0, 8, 5, 8, 7, 3, 3, 2, 4, 2, 6, 2, 2, 2, 8, 3,\n",
              "       1, 7, 8, 3, 9, 2, 7, 4, 2, 3, 0, 9, 5, 1, 4, 8, 9, 7, 1, 4, 3, 4,\n",
              "       0, 7, 0, 2, 5, 2, 9, 2, 2, 4, 1, 2, 6, 5, 2, 0, 5, 6, 6, 9, 7, 2,\n",
              "       4, 6, 4, 4, 6, 2, 1, 7, 5, 5, 3, 3, 9, 0, 2, 3, 9, 3, 2, 9, 1, 8,\n",
              "       7, 9, 2, 1, 6, 5, 8, 7, 6, 8, 7, 4, 8, 8, 6, 1, 7, 3, 6, 1, 6, 0,\n",
              "       0, 0, 6, 6, 4, 9, 6, 5, 3, 8, 5, 2, 2, 6, 5, 8, 8, 9, 2, 0, 3, 1,\n",
              "       4, 6, 4, 3, 1, 1, 6, 2, 6, 3, 1, 1, 4, 9, 7, 9, 5, 9, 3, 1, 9, 5,\n",
              "       0, 7, 2, 7, 0, 2, 4, 1, 5, 1, 2, 4, 6, 4, 2, 0, 4, 6, 2, 6, 3, 2,\n",
              "       7, 5, 7, 7, 9, 0, 5, 3, 1, 2, 2, 2, 0, 5, 8, 8, 6, 3, 6, 6, 7, 8,\n",
              "       1, 5, 0, 7, 9, 7, 8, 0, 8, 9, 0, 4, 5, 1, 5, 6, 9, 3, 4, 3, 6, 9,\n",
              "       2, 0, 6, 6, 7, 2, 4, 2, 1, 5, 6, 4, 3, 9, 8, 8, 6, 5, 0, 0, 1, 3,\n",
              "       6, 3, 6, 0, 4, 6, 5, 7, 9, 1, 4, 8, 6, 0, 9, 8, 4, 3, 1, 1, 9, 1,\n",
              "       3, 9, 7, 5, 0, 0, 5, 1, 7, 8, 9, 0, 5, 0, 9, 1, 9, 0, 7, 4, 0, 3,\n",
              "       4, 9, 4, 7, 0, 1, 1, 6, 8, 4, 5, 3, 4, 2, 5, 8, 7, 1, 6, 3, 6, 4,\n",
              "       4, 3, 4, 0, 0, 0, 5, 0, 6, 9, 7, 2, 1, 2, 9, 4, 0, 4, 9, 0, 6, 1,\n",
              "       9, 4, 7, 2, 9, 9, 6, 8, 5, 4, 6, 4, 2, 4, 3, 4, 5, 1, 8, 5, 2, 8,\n",
              "       2, 8, 8, 2, 1, 6, 2, 0, 0, 8, 0, 2, 0, 5, 9, 6, 4, 4, 5, 9, 1, 9,\n",
              "       3, 1, 0, 7, 3, 0, 9, 1, 2, 3, 9, 0, 5, 3, 3, 6, 6, 9, 5, 4, 1, 5,\n",
              "       6, 3, 5, 6, 1, 6, 8, 5, 4, 5, 7, 1])"
            ]
          },
          "metadata": {},
          "execution_count": 28
        }
      ]
    },
    {
      "cell_type": "markdown",
      "source": [
        "# Model Accuracy"
      ],
      "metadata": {
        "id": "JY9yFi_mqoBL"
      }
    },
    {
      "cell_type": "code",
      "source": [
        "from  sklearn.metrics import confusion_matrix, classification_report"
      ],
      "metadata": {
        "id": "ZbaDobUtqra9"
      },
      "execution_count": null,
      "outputs": []
    },
    {
      "cell_type": "code",
      "source": [
        "confusion_matrix(y_test, y_pred)"
      ],
      "metadata": {
        "id": "F1BzySYwqy8Z",
        "colab": {
          "base_uri": "https://localhost:8080/"
        },
        "outputId": "c875ee68-087a-450f-b20c-c56c0d9acf65"
      },
      "execution_count": null,
      "outputs": [
        {
          "output_type": "execute_result",
          "data": {
            "text/plain": [
              "array([[64,  0,  0,  0,  2,  0,  0,  0,  0,  0],\n",
              "       [ 0, 50,  0,  0,  0,  0,  0,  0,  0,  0],\n",
              "       [ 0,  0, 57,  0,  0,  0,  0,  0,  0,  0],\n",
              "       [ 0,  0,  0, 46,  0,  1,  0,  1,  0,  0],\n",
              "       [ 0,  1,  0,  0, 48,  0,  0,  0,  0,  0],\n",
              "       [ 0,  0,  0,  0,  0, 52,  0,  0,  0,  0],\n",
              "       [ 1,  0,  0,  0,  0,  0, 66,  0,  1,  0],\n",
              "       [ 0,  0,  0,  0,  0,  0,  0, 43,  1,  0],\n",
              "       [ 0,  4,  1,  0,  0,  0,  0,  0, 41,  0],\n",
              "       [ 0,  0,  0,  1,  1,  1,  0,  3,  1, 53]])"
            ]
          },
          "metadata": {},
          "execution_count": 30
        }
      ]
    },
    {
      "cell_type": "code",
      "source": [
        "print(classification_report(y_test, y_pred))"
      ],
      "metadata": {
        "id": "De4FTfmqq3zE",
        "colab": {
          "base_uri": "https://localhost:8080/"
        },
        "outputId": "0e15ccaf-4b8e-47c7-e736-628bc74f55a2"
      },
      "execution_count": null,
      "outputs": [
        {
          "output_type": "stream",
          "name": "stdout",
          "text": [
            "              precision    recall  f1-score   support\n",
            "\n",
            "           0       0.98      0.97      0.98        66\n",
            "           1       0.91      1.00      0.95        50\n",
            "           2       0.98      1.00      0.99        57\n",
            "           3       0.98      0.96      0.97        48\n",
            "           4       0.94      0.98      0.96        49\n",
            "           5       0.96      1.00      0.98        52\n",
            "           6       1.00      0.97      0.99        68\n",
            "           7       0.91      0.98      0.95        44\n",
            "           8       0.93      0.89      0.91        46\n",
            "           9       1.00      0.88      0.94        60\n",
            "\n",
            "    accuracy                           0.96       540\n",
            "   macro avg       0.96      0.96      0.96       540\n",
            "weighted avg       0.96      0.96      0.96       540\n",
            "\n"
          ]
        }
      ]
    }
  ]
}